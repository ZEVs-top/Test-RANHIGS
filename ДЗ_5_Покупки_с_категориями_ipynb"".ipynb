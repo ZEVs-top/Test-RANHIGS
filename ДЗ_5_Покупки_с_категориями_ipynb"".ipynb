{
  "nbformat": 4,
  "nbformat_minor": 0,
  "metadata": {
    "colab": {
      "provenance": [],
      "include_colab_link": true
    },
    "kernelspec": {
      "name": "python3",
      "display_name": "Python 3"
    },
    "language_info": {
      "name": "python"
    }
  },
  "cells": [
    {
      "cell_type": "markdown",
      "metadata": {
        "id": "view-in-github",
        "colab_type": "text"
      },
      "source": [
        "<a href=\"https://colab.research.google.com/github/ZEVs-top/Test-RANHIGS/blob/main/%D0%94%D0%97_5_%D0%9F%D0%BE%D0%BA%D1%83%D0%BF%D0%BA%D0%B8_%D1%81_%D0%BA%D0%B0%D1%82%D0%B5%D0%B3%D0%BE%D1%80%D0%B8%D1%8F%D0%BC%D0%B8_ipynb%22%22.ipynb\" target=\"_parent\"><img src=\"https://colab.research.google.com/assets/colab-badge.svg\" alt=\"Open In Colab\"/></a>"
      ]
    },
    {
      "cell_type": "markdown",
      "source": [
        "##Задание\n",
        "Для каждого user_id в файле visit_log.csv определите третий столбец с категорией покупки. Если покупка была, сам файл visit_log.csv изменять не надо.\n",
        "Запишите в файл funnel.csv визиты из файла visit_log.csv, в которых были покупки с указанием категории.\n"
      ],
      "metadata": {
        "id": "on_Q1BXzL9Tq"
      }
    },
    {
      "cell_type": "code",
      "execution_count": null,
      "metadata": {
        "colab": {
          "base_uri": "https://localhost:8080/"
        },
        "id": "Vag_1yEiFVO0",
        "outputId": "1dce4a07-7731-427b-b134-98903d89c602"
      },
      "outputs": [
        {
          "output_type": "stream",
          "name": "stderr",
          "text": [
            "Downloading...\n",
            "From: https://drive.google.com/uc?id=1BP8BsclhWmi-7knTMR_nusVcVSU130U-\n",
            "To: /content/purchase_log.json\n",
            "100%|██████████| 6.62M/6.62M [00:00<00:00, 57.6MB/s]\n",
            "Downloading...\n",
            "From: https://drive.google.com/uc?id=1qxFogNL_7FfK0H-S1XI6wsGJpB2fn-4f\n",
            "To: /content/visit_log.csv\n",
            "100%|██████████| 3.50M/3.50M [00:00<00:00, 152MB/s]\n",
            "/usr/local/lib/python3.10/dist-packages/gdown/parse_url.py:48: UserWarning: You specified a Google Drive link that is not the correct link to download a file. You might want to try `--fuzzy` option or the following url: https://drive.google.com/uc?id=None\n",
            "  warnings.warn(\n",
            "Downloading...\n",
            "From: https://docs.google.com/spreadsheets/d/18j9Sc3gGG4w-5rcCLfGIum0ZtUfAe6t6k_POfK4c12Y\n",
            "To: /content/funnel.csv\n",
            "249kB [00:00, 1.33MB/s]\n"
          ]
        }
      ],
      "source": [
        "import json\n",
        "import csv\n",
        "import gdown\n",
        "import pandas as pd\n",
        "\n",
        "PURCHASE_LOG_FILE = 'https://drive.google.com/uc?id=1BP8BsclhWmi-7knTMR_nusVcVSU130U-'\n",
        "VISIT_LOG_FILE = 'https://drive.google.com/uc?id=1qxFogNL_7FfK0H-S1XI6wsGJpB2fn-4f'\n",
        "FUNNEL_FILE = 'https://docs.google.com/spreadsheets/d/18j9Sc3gGG4w-5rcCLfGIum0ZtUfAe6t6k_POfK4c12Y'\n",
        "\n",
        "# Скачиваем файлы\n",
        "gdown.download(PURCHASE_LOG_FILE, 'purchase_log.json', quiet=False)\n",
        "gdown.download(VISIT_LOG_FILE, 'visit_log.csv', quiet=False)\n",
        "gdown.download(FUNNEL_FILE, 'funnel.csv', quiet=False)\n",
        "\n",
        "purchase_dict = {}\n",
        "\n",
        "# Открываем файл с покупками\n",
        "with open('purchase_log.json', 'r', encoding='utf-8') as f:\n",
        "    for line in f:\n",
        "        record = json.loads(line.strip())\n",
        "        user_id = record.get('user_id')\n",
        "        category = record.get('category')\n",
        "        if user_id != \"user_id\":\n",
        "            purchase_dict[user_id] = category\n",
        "\n",
        "# Открываем файл с посещениями и создаем воронку\n",
        "with open('visit_log.csv', 'r', encoding='utf-8') as visit_log, \\\n",
        "        open('funnel.csv', 'w', encoding='utf-8', newline='') as funnel:\n",
        "    reader = csv.reader(visit_log)\n",
        "    writer = csv.writer(funnel)\n",
        "    writer.writerow(['user_id', 'source', 'category'])\n",
        "\n",
        "    next(reader)  # Пропускаем первую строку с заголовками\n",
        "\n",
        "    for row in reader:\n",
        "        user_id, source = row\n",
        "        category = purchase_dict.get(user_id)\n",
        "        if category:\n",
        "            writer.writerow([user_id, source, category])\n",
        "\n",
        "\n",
        "\n",
        "# Загружаем данные из файла funnel.csv\n",
        "df = pd.read_csv('funnel.csv')\n"
      ]
    },
    {
      "cell_type": "code",
      "source": [
        "# Выводим первые строки\n",
        "print(\"Выводим первые 3 строки из файла funnel.csv:\")\n",
        "print(df.head(3))"
      ],
      "metadata": {
        "colab": {
          "base_uri": "https://localhost:8080/"
        },
        "id": "F1PTaRi8J58L",
        "outputId": "f58d78d5-177d-48ca-d1a3-34943c8abe74"
      },
      "execution_count": null,
      "outputs": [
        {
          "output_type": "stream",
          "name": "stdout",
          "text": [
            "Выводим первые 3 строки из файла funnel.csv:\n",
            "      user_id   source     category\n",
            "0  1840e0b9d4    other     Продукты\n",
            "1  4e4f90fcfb  context  Электроника\n",
            "2  afea8d72fc    other  Электроника\n"
          ]
        }
      ]
    }
  ]
}