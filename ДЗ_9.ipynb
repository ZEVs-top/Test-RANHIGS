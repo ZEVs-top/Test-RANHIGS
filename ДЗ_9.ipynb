{
  "nbformat": 4,
  "nbformat_minor": 0,
  "metadata": {
    "colab": {
      "provenance": [],
      "include_colab_link": true
    },
    "kernelspec": {
      "name": "python3",
      "display_name": "Python 3"
    },
    "language_info": {
      "name": "python"
    }
  },
  "cells": [
    {
      "cell_type": "markdown",
      "metadata": {
        "id": "view-in-github",
        "colab_type": "text"
      },
      "source": [
        "<a href=\"https://colab.research.google.com/github/ZEVs-top/Test-RANHIGS/blob/main/%D0%94%D0%97_9.ipynb\" target=\"_parent\"><img src=\"https://colab.research.google.com/assets/colab-badge.svg\" alt=\"Open In Colab\"/></a>"
      ]
    },
    {
      "cell_type": "markdown",
      "source": [
        "#**Домашнее задание 9**\n",
        "\n",
        "Задание\n",
        "Вопросы по заданию\n",
        "В этом разделе можно задать вопросы и получить ответ.\n",
        "Домашнее задание 9\n",
        "Дисциплина\n",
        "Программирование и аналитика на Python\n",
        "\n",
        "Тема\n",
        "Тема 9. Случайные события. Случайные величины\n",
        "\n",
        "Форма проверки\n",
        "Студент выполняет задание и самостоятельно проверяет его\n",
        "\n",
        "Имя преподавателя\n",
        "Вячеслав Потапов\n",
        "\n",
        "Время выполнения\n",
        "3 академ.часа\n",
        "\n",
        "Цель задания\n",
        "\n",
        "Отработать навык расчета простой вероятности,\n",
        "Потренировать алгоритм Монте Карло для расчета вероятности экспериментальным методом\n",
        "Инструменты для выполнения ДЗ\n",
        "Jupyter Notebook или Google Colab\n",
        "\n",
        "Правила приема работы\n",
        "Прикрепите ссылку на выполненное задание в Google Colab или GitHub (если вы использовали Jupyter Notebook).\n",
        "Важно: убедитесь, что файл в Google Colab доступен для просмотра другим пользователям\n",
        "\n",
        "Критерии оценки\n",
        "Задание считается выполненным, если:\n",
        "\n",
        "прикреплена ссылка на файл с готовым заданием,\n",
        "доступ к файлу открыт,\n",
        "код даёт правильный ответ к задаче.\n",
        "Задание не выполнено, если:\n",
        "\n",
        "ссылка на файл с заданием не прикреплена,\n",
        "отсутствует доступ к файлу,\n",
        "код выдаёт ошибку или даёт неправильный ответ\n",
        "Дедлайн\n",
        "7 дней после даты проведения соответствующего вебинара\n",
        "\n",
        "Описание задания\n",
        "Задание 1\n",
        "С помощью python смоделировать игру против лотерейного автомата типа “777”.\n",
        "\n",
        "Игрок платит 1 руб., после чего выпадает случайное целое число, равномерно распределенное от 0 до 999.\n",
        "При некоторых значениях числа игрок получает выигрыш:\n",
        "\n",
        "(* – любая цифра)\n",
        "Выгодна ли игра игроку?\n",
        "Сколько в среднем приобретает или теряет игрок за одну игру?\n",
        "\n",
        "Задание 2 (дополнительное задание повышенной сложности)\n",
        "Теоретически рассчитать средний выигрыш (проигрыш) и сравнить с результатами моделирования"
      ],
      "metadata": {
        "id": "TOCrZxdUHrNF"
      }
    },
    {
      "cell_type": "code",
      "execution_count": null,
      "metadata": {
        "id": "X_bKSh3sHqZj"
      },
      "outputs": [],
      "source": [
        "import random\n",
        "\n",
        "def automat():\n",
        "    value = random.randint(0, 999)\n",
        "    if value == 777:\n",
        "        return 200\n",
        "    elif value == 999:\n",
        "        return 100\n",
        "    elif value == 555:\n",
        "        return 50\n",
        "    elif value == 333:\n",
        "        return 15\n",
        "    elif value == 111:\n",
        "        return 10\n",
        "    elif value % 100 == 77:\n",
        "        return 5\n",
        "    elif value % 10 == 7:\n",
        "        return 3\n",
        "    elif value % 100 == 0:\n",
        "        return 2\n",
        "    elif value % 10 == 0:\n",
        "        return 1\n",
        "    else:\n",
        "        return 0"
      ]
    },
    {
      "cell_type": "code",
      "source": [
        "automat()"
      ],
      "metadata": {
        "colab": {
          "base_uri": "https://localhost:8080/"
        },
        "id": "fn1zuSdDH7Uy",
        "outputId": "d25a32b2-c885-4b6b-f0c2-291689ed473f"
      },
      "execution_count": null,
      "outputs": [
        {
          "output_type": "execute_result",
          "data": {
            "text/plain": [
              "3"
            ]
          },
          "metadata": {},
          "execution_count": 39
        }
      ]
    },
    {
      "cell_type": "markdown",
      "source": [
        "##**Сколько в среднем приобретает или теряет игрок за одну игру?**\n"
      ],
      "metadata": {
        "id": "EoKcpfGVIH38"
      }
    },
    {
      "cell_type": "code",
      "source": [
        "balance = 100\n",
        "n = 1000000\n",
        "for i in range(n):\n",
        "    balance -= 1\n",
        "    balance += automat()\n",
        "\n",
        "balance /= n\n",
        "balance"
      ],
      "metadata": {
        "colab": {
          "base_uri": "https://localhost:8080/"
        },
        "id": "ZG9L4FziIIwc",
        "outputId": "5651ce5d-3ccf-4ebc-b48c-bedfa1d3958b"
      },
      "execution_count": null,
      "outputs": [
        {
          "output_type": "execute_result",
          "data": {
            "text/plain": [
              "-0.212836"
            ]
          },
          "metadata": {},
          "execution_count": 41
        }
      ]
    },
    {
      "cell_type": "markdown",
      "source": [
        "##**Вывод**"
      ],
      "metadata": {
        "id": "BmBgRGkUIVXF"
      }
    },
    {
      "cell_type": "markdown",
      "source": [
        "Игра не выгодна, так как в среднем игрок теряет 0.2 рубля за одну игру."
      ],
      "metadata": {
        "id": "mEo4Y-GHIXyb"
      }
    }
  ]
}